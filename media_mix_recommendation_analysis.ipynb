{
  "cells": [
    {
      "cell_type": "markdown",
      "metadata": {
        "id": "ayucyn2rfolt"
      },
      "source": [
        "### 1. 데이터 불러오기 및 전처리"
      ]
    },
    {
      "cell_type": "code",
      "execution_count": null,
      "metadata": {
        "id": "oY7b3CHRfolx",
        "outputId": "a512eed4-34f8-4e86-abd1-9ca210214f17"
      },
      "outputs": [
        {
          "name": "stdout",
          "output_type": "stream",
          "text": [
            "['NANUMBARUNGOTHIC']\n"
          ]
        }
      ],
      "source": [
        "import numpy as np\n",
        "import joblib\n",
        "import json\n",
        "import pandas as pd\n",
        "import pymysql\n",
        "from sklearn.linear_model import LinearRegression\n",
        "from sklearn.metrics import r2_score\n",
        "from sklearn.model_selection import cross_val_predict, cross_val_score, cross_validate, KFold, train_test_split\n",
        "\n",
        "# 그래프 관련 패키지\n",
        "import seaborn as sns\n",
        "import matplotlib.pyplot as plt\n",
        "\n",
        "plt.rc('font', family = 'NANUMBARUNGOTHIC')\n",
        "print(plt.rcParams['font.family'])\n",
        "\n",
        "%matplotlib inline"
      ]
    },
    {
      "cell_type": "code",
      "execution_count": null,
      "metadata": {
        "id": "-Vs9kuTPfolz"
      },
      "outputs": [],
      "source": [
        "# 입력값\n",
        "advertiser_id = '13' # 광고주: 에스티유니타스(13) or None\n",
        "site_id =  '85' # 사이트: 수험1팀_공단기(85) or None\n",
        "budget = 100000000 # 예산\n",
        "kpi = 'click' # KPI(click, cpa, roas)"
      ]
    },
    {
      "cell_type": "code",
      "execution_count": null,
      "metadata": {
        "id": "7VxHpAnCfol0"
      },
      "outputs": [],
      "source": [
        "filePath = '/home/anaconda3/da/data/media mix_data9/'\n",
        "result_data = []\n",
        "output = {}"
      ]
    },
    {
      "cell_type": "code",
      "execution_count": null,
      "metadata": {
        "id": "aZQ8KEX6fol0"
      },
      "outputs": [],
      "source": [
        "# DB 접속(정보 생략)\n",
        "conn = pymysql.connect()"
      ]
    },
    {
      "cell_type": "code",
      "execution_count": null,
      "metadata": {
        "id": "uZj56q1ofol0"
      },
      "outputs": [],
      "source": [
        "# 요약 테이블 불러오기\n",
        "summary_query = \"SELECT * FROM data9_search_summary\"\n",
        "summary_df = pd.read_sql(summary_query, conn)"
      ]
    },
    {
      "cell_type": "code",
      "execution_count": null,
      "metadata": {
        "id": "IyfC6PJAfol1"
      },
      "outputs": [],
      "source": [
        "# 캠페인 구분 변수 생성\n",
        "summary_df = summary_df.astype({'statYear': str, 'statMonth': str})\n",
        "summary_df['campaign'] = summary_df['advertiser_name'] + \"_\" + summary_df['site_name'] + \"_\" + summary_df['statYear'] + \"_\" + summary_df['statMonth']\n",
        "summary_df['mediaDevice'] = summary_df['media_code'] + \"_\" + summary_df['deviceType'] ###\n",
        "\n",
        "# 캠페인 기준 Summary(사이트/월 기준)\n",
        "summary_df_fin = summary_df.groupby(['advertiser_id', 'advertiser_name', 'site_id', 'site_name', 'statYear', 'statMonth']).agg(\n",
        "    {'avgImpressionRank': 'mean', 'adCost': 'sum', 'impression': 'sum', 'click': 'sum', \n",
        "     'directBuyConvCnt': 'sum', 'directBuyCostConvCnt': 'sum', 'indirectBuyConvCnt': 'sum', 'indirectBuyCostConvCnt': 'sum'}).reset_index() ###\n",
        "\n",
        "summary_df_fin['buyConvCnt'] = summary_df_fin.directBuyConvCnt + summary_df_fin.indirectBuyConvCnt\n",
        "summary_df_fin['buyCostConvCnt'] = summary_df_fin.directBuyCostConvCnt + summary_df_fin.indirectBuyCostConvCnt\n",
        "summary_df_fin['cpa'] = np.where(summary_df_fin.buyConvCnt == 0, 0, summary_df_fin.adCost / summary_df_fin.buyConvCnt)\n",
        "summary_df_fin['roas'] = np.where(summary_df_fin.adCost == 0, 0, summary_df_fin.buyCostConvCnt / summary_df_fin.adCost)\n",
        "\n",
        "# 상품별 광고비 비중\n",
        "campaign_slot = summary_df.groupby(['campaign', 'mediaDevice'])['adCost'].sum().unstack('mediaDevice')\n",
        "campaign_slot = campaign_slot.fillna(0)\n",
        "\n",
        "total_adCost = campaign_slot.sum(axis = 1)\n",
        "total_adCost = total_adCost.values.reshape(len(total_adCost), 1) # dimension이 있어야 연산 가능\n",
        "\n",
        "campaign_slot_ratio = campaign_slot / total_adCost\n",
        "campaign_slot_ratio = campaign_slot_ratio.reset_index()\n",
        "campaign_slot_ratio = campaign_slot_ratio[campaign_slot_ratio.daum_M.notnull()] # total_adCost = 0인 캠페인 제외\n",
        "\n",
        "# 테이블과 형식 통일\n",
        "campaign_slot_ratio.daum_M = round(campaign_slot_ratio.daum_M, 4)\n",
        "campaign_slot_ratio.daum_P = round(campaign_slot_ratio.daum_P, 4)\n",
        "campaign_slot_ratio.google_M = round(campaign_slot_ratio.google_M, 4)\n",
        "campaign_slot_ratio.google_P = round(campaign_slot_ratio.google_P, 4)\n",
        "campaign_slot_ratio.naver_M = round(campaign_slot_ratio.naver_M, 4)\n",
        "campaign_slot_ratio.naver_P = round(campaign_slot_ratio.naver_P, 4)"
      ]
    },
    {
      "cell_type": "markdown",
      "metadata": {
        "id": "Yi8wd3DOfol1"
      },
      "source": [
        "## -------------------------------------------------------------------------------------------------------------------------------\n",
        "### 2. 데이터마트 생성"
      ]
    },
    {
      "cell_type": "code",
      "execution_count": null,
      "metadata": {
        "id": "_jv2e1Pmfol2"
      },
      "outputs": [],
      "source": [
        "# 사이트별 캠페인 수 확인(KPI unique 깂이 5가지 이상인 사이트만 분석에 활용)\n",
        "summary_df_kpi = summary_df_fin[summary_df_fin[kpi] != 0] # 지표가 0인 경우 제외\n",
        "summary_df_kpi_tmp = summary_df_kpi[['site_id', kpi]].drop_duplicates()\n",
        "\n",
        "summary_df_kpi_cnt = summary_df_kpi_tmp.groupby(['site_id']).agg({kpi: 'count'}).reset_index()\n",
        "summary_df_kpi_cnt = summary_df_kpi_cnt.rename(columns = {kpi: 'cnt'})\n",
        "summary_df_kpi_cnt = summary_df_kpi_cnt[summary_df_kpi_cnt.cnt >= 5]\n",
        "\n",
        "summary_df_kpi2 = pd.merge(summary_df_kpi, summary_df_kpi_cnt, how = 'left', on = 'site_id')\n",
        "summary_df_kpi2 = summary_df_kpi2[summary_df_kpi2.cnt.notnull()]\n",
        "\n",
        "# 사이트별 KPI 그룹 번호 부여(특정 사이트만 분석에 반영되는 이슈 방지/CPA는 그룹 번호 반대로 생성)\n",
        "group_df = []\n",
        "\n",
        "if kpi =='cpa': \n",
        "\n",
        "    for col in summary_df_kpi2.site_name.unique():\n",
        "        summary_df_kpi2_tmp = summary_df_kpi2.copy()\n",
        "        summary_df_kpi2_tmp = summary_df_kpi2_tmp[summary_df_kpi2_tmp.site_name == col]\n",
        "        summary_df_kpi2_tmp['cut'] = pd.qcut(summary_df_kpi2_tmp[kpi], q = 3, labels = [3, 2, 1], duplicates = 'drop')\n",
        "        group_df.append(summary_df_kpi2_tmp)\n",
        "        \n",
        "else:\n",
        "\n",
        "    for col in summary_df_kpi2.site_name.unique():\n",
        "        summary_df_kpi2_tmp = summary_df_kpi2.copy()\n",
        "        summary_df_kpi2_tmp = summary_df_kpi2_tmp[summary_df_kpi2_tmp.site_name == col]\n",
        "        summary_df_kpi2_tmp['cut'] = pd.qcut(summary_df_kpi2_tmp[kpi], q = 3, labels = [1, 2, 3], duplicates = 'drop')\n",
        "        group_df.append(summary_df_kpi2_tmp)\n",
        "\n",
        "group_df = pd.concat(group_df)\n",
        "group_df = group_df[['advertiser_id', 'advertiser_name', 'site_id', 'site_name', 'statYear', 'statMonth',\n",
        "                     'adCost', 'click', 'buyConvCnt', 'buyCostConvCnt', 'cpa', 'roas', 'cut']] ###\n",
        "group_df = group_df.astype({'statYear': str, 'statMonth': str})\n",
        "group_df['campaign'] = group_df['advertiser_name'] + \"_\" + group_df['site_name'] + \"_\" + group_df['statYear'] + \"_\" + group_df['statMonth']\n",
        "\n",
        "# 데이터마트 생성\n",
        "kpi_df = pd.merge(group_df, campaign_slot_ratio, how = 'left', on = 'campaign')\n",
        "kpi_df = kpi_df[kpi_df.daum_M.notnull()] # total_adCost = 0인 캠페인 제외\n",
        "\n",
        "kpi_site = kpi_df[kpi_df.site_id == site_id] # 사이트 데이터셋\n",
        "kpi_ad = kpi_df[kpi_df.advertiser_id == advertiser_id] # 광고주 데이터셋"
      ]
    },
    {
      "cell_type": "markdown",
      "metadata": {
        "id": "Av7TuRV5fol3"
      },
      "source": [
        "## -------------------------------------------------------------------------------------------------------------------------------\n",
        "### 3. 예산 분배 최적화"
      ]
    },
    {
      "cell_type": "code",
      "execution_count": null,
      "metadata": {
        "id": "5LGgbItJfol3",
        "outputId": "3f83fe66-145f-43c0-8102-55b69962ce9a"
      },
      "outputs": [
        {
          "data": {
            "text/html": [
              "<div>\n",
              "<style scoped>\n",
              "    .dataframe tbody tr th:only-of-type {\n",
              "        vertical-align: middle;\n",
              "    }\n",
              "\n",
              "    .dataframe tbody tr th {\n",
              "        vertical-align: top;\n",
              "    }\n",
              "\n",
              "    .dataframe thead th {\n",
              "        text-align: right;\n",
              "    }\n",
              "</style>\n",
              "<table border=\"1\" class=\"dataframe\">\n",
              "  <thead>\n",
              "    <tr style=\"text-align: right;\">\n",
              "      <th></th>\n",
              "      <th>mediaDevice</th>\n",
              "      <th>ad_proportion</th>\n",
              "      <th>cpc</th>\n",
              "      <th>cvr</th>\n",
              "      <th>ct</th>\n",
              "      <th>ad_price</th>\n",
              "    </tr>\n",
              "  </thead>\n",
              "  <tbody>\n",
              "    <tr>\n",
              "      <th>0</th>\n",
              "      <td>daum_M</td>\n",
              "      <td>0.000000</td>\n",
              "      <td>0.0</td>\n",
              "      <td>0.000</td>\n",
              "      <td>0.0</td>\n",
              "      <td>0.0</td>\n",
              "    </tr>\n",
              "    <tr>\n",
              "      <th>1</th>\n",
              "      <td>daum_P</td>\n",
              "      <td>0.000000</td>\n",
              "      <td>0.0</td>\n",
              "      <td>0.000</td>\n",
              "      <td>0.0</td>\n",
              "      <td>0.0</td>\n",
              "    </tr>\n",
              "    <tr>\n",
              "      <th>2</th>\n",
              "      <td>google_M</td>\n",
              "      <td>0.213461</td>\n",
              "      <td>570.0</td>\n",
              "      <td>0.026</td>\n",
              "      <td>87016.0</td>\n",
              "      <td>21300000.0</td>\n",
              "    </tr>\n",
              "    <tr>\n",
              "      <th>3</th>\n",
              "      <td>google_P</td>\n",
              "      <td>0.323870</td>\n",
              "      <td>850.0</td>\n",
              "      <td>0.077</td>\n",
              "      <td>140631.0</td>\n",
              "      <td>32400000.0</td>\n",
              "    </tr>\n",
              "    <tr>\n",
              "      <th>4</th>\n",
              "      <td>naver_M</td>\n",
              "      <td>0.241404</td>\n",
              "      <td>580.0</td>\n",
              "      <td>0.000</td>\n",
              "      <td>74029.0</td>\n",
              "      <td>24100000.0</td>\n",
              "    </tr>\n",
              "    <tr>\n",
              "      <th>5</th>\n",
              "      <td>naver_P</td>\n",
              "      <td>0.221265</td>\n",
              "      <td>780.0</td>\n",
              "      <td>0.086</td>\n",
              "      <td>154636.0</td>\n",
              "      <td>22100000.0</td>\n",
              "    </tr>\n",
              "  </tbody>\n",
              "</table>\n",
              "</div>"
            ],
            "text/plain": [
              "  mediaDevice  ad_proportion    cpc    cvr        ct    ad_price\n",
              "0      daum_M       0.000000    0.0  0.000       0.0         0.0\n",
              "1      daum_P       0.000000    0.0  0.000       0.0         0.0\n",
              "2    google_M       0.213461  570.0  0.026   87016.0  21300000.0\n",
              "3    google_P       0.323870  850.0  0.077  140631.0  32400000.0\n",
              "4     naver_M       0.241404  580.0  0.000   74029.0  24100000.0\n",
              "5     naver_P       0.221265  780.0  0.086  154636.0  22100000.0"
            ]
          },
          "execution_count": 33,
          "metadata": {},
          "output_type": "execute_result"
        }
      ],
      "source": [
        "# if (site_id is not None) and kpi_site.shape[0] >= 12: # 사이트 데이터 기준\n",
        "\n",
        "# 데이터셋 준비\n",
        "kpi_X = kpi_site[['cut']]\n",
        "kpi_y = kpi_site[['daum_M', 'daum_P', 'google_M', 'google_P', 'naver_M', 'naver_P']]\n",
        "\n",
        "# 최종 모형(사이트 모형 구축의 경우, 데이터 양이 부족하므로 데이터셋 분리 X)\n",
        "kpi_reg  = LinearRegression().fit(kpi_X, kpi_y)\n",
        "kpi_pred = kpi_reg.predict(kpi_X)\n",
        "\n",
        "# print('uniform_average:', r2_score(kpi_y, kpi_pred, multioutput = 'uniform_average')) # r2 = ?\n",
        "# print('variance_weighted:', r2_score(kpi_y, kpi_pred, multioutput = 'variance_weighted')) # r2 = ?\n",
        "\n",
        "# 상위 그룹 기준 예산 분배\n",
        "data = pd.DataFrame([3], index = [0])\n",
        "kpi_output = kpi_reg.predict(data)\n",
        "\n",
        "# 확률 형태로 변환\n",
        "pd_limit = 0.001\n",
        "kpi_output2 = np.where(kpi_output < pd_limit, 0, kpi_output) # 특정 비율보다 낮게 추정된 상품은 0으로 변환\n",
        "kpi_output_sum = np.sum(kpi_output2, axis = 1, keepdims = True)\n",
        "\n",
        "kpi_output2 = pd.DataFrame(kpi_output2)\n",
        "kpi_output_sum = np.where(kpi_output_sum == 0, 0.00001, kpi_output_sum) # 합을 0이 아닌 아주 작은 값으로 변환\n",
        "\n",
        "kpi_pred_pb = np.where(kpi_output2 == 0, 0, kpi_output2 / kpi_output_sum)\n",
        "kpi_pred_pb = pd.DataFrame(kpi_pred_pb, columns = kpi_y.columns)\n",
        "\n",
        "kpi_pred_pb = kpi_pred_pb.T.reset_index()\n",
        "kpi_pred_pb.columns = ['mediaDevice', 'ad_proportion']\n",
        "\n",
        "# 평균 효율(CPC/전환율/객단가)\n",
        "kpi_site2 = kpi_site[kpi_site.cut == 3]\n",
        "kpi_site2 = kpi_site2[['campaign', 'cut']]\n",
        "\n",
        "summary_df2 = pd.merge(summary_df, kpi_site2, how = 'left', on = ['campaign'])\n",
        "summary_df2 = summary_df2[summary_df2.cut.notnull()]\n",
        "\n",
        "summary_df2['buyConvCnt'] = summary_df2.directBuyConvCnt + summary_df2.indirectBuyConvCnt\n",
        "summary_df2['buyCostConvCnt'] = summary_df2.directBuyCostConvCnt + summary_df2.indirectBuyCostConvCnt\n",
        "\n",
        "kpi_summary = summary_df2.groupby(['mediaDevice']).agg({\n",
        "    'adCost': 'sum', 'click': 'sum', 'buyConvCnt': 'sum', 'buyCostConvCnt': 'sum'}).reset_index()\n",
        "\n",
        "kpi_summary['cpc'] = np.where(kpi_summary.click == 0, 0, kpi_summary.adCost / kpi_summary.click)\n",
        "kpi_summary['cpa'] = np.where(kpi_summary.buyConvCnt == 0, 0, kpi_summary.adCost / kpi_summary.buyConvCnt)\n",
        "kpi_summary['cvr'] = np.where(kpi_summary.click == 0, 0, kpi_summary.buyConvCnt / kpi_summary.click)\n",
        "kpi_summary['ct'] = np.where(kpi_summary.buyConvCnt == 0, 0, kpi_summary.buyCostConvCnt / kpi_summary.buyConvCnt) # 객단가\n",
        "\n",
        "# 미디어믹스\n",
        "result_fin = pd.merge(kpi_pred_pb, kpi_summary[['mediaDevice', 'cpc', 'cvr', 'ct']], how = 'left', on = 'mediaDevice')\n",
        "\n",
        "result_fin['ad_price'] = round(result_fin.ad_proportion * budget, -5)\n",
        "result_fin['cpc'] = np.where(result_fin.cpc.isnull(), 0, round(result_fin.cpc, -1))\n",
        "result_fin['cvr'] = np.where(result_fin.cvr.isnull(), 0, round(result_fin.cvr, 3))\n",
        "result_fin['ct'] = np.where(result_fin.ct.isnull(), 0, round(result_fin.ct, 0))\n",
        "\n",
        "result_fin"
      ]
    },
    {
      "cell_type": "code",
      "execution_count": null,
      "metadata": {
        "id": "944xdLD9fol4"
      },
      "outputs": [],
      "source": []
    },
    {
      "cell_type": "code",
      "execution_count": null,
      "metadata": {
        "id": "v0KwFYdVfol4"
      },
      "outputs": [],
      "source": []
    },
    {
      "cell_type": "code",
      "execution_count": null,
      "metadata": {
        "id": "nUJYc0ysfol4"
      },
      "outputs": [],
      "source": []
    }
  ],
  "metadata": {
    "kernelspec": {
      "display_name": "Python 3",
      "language": "python",
      "name": "python3"
    },
    "language_info": {
      "codemirror_mode": {
        "name": "ipython",
        "version": 3
      },
      "file_extension": ".py",
      "mimetype": "text/x-python",
      "name": "python",
      "nbconvert_exporter": "python",
      "pygments_lexer": "ipython3",
      "version": "3.6.10"
    },
    "colab": {
      "provenance": []
    }
  },
  "nbformat": 4,
  "nbformat_minor": 0
}